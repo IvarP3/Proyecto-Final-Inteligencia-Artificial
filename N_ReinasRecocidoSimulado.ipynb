{
  "nbformat": 4,
  "nbformat_minor": 0,
  "metadata": {
    "colab": {
      "provenance": [],
      "authorship_tag": "ABX9TyPxhwwg5250s8sKJjzXLwXE",
      "include_colab_link": true
    },
    "kernelspec": {
      "name": "python3",
      "display_name": "Python 3"
    },
    "language_info": {
      "name": "python"
    }
  },
  "cells": [
    {
      "cell_type": "markdown",
      "metadata": {
        "id": "view-in-github",
        "colab_type": "text"
      },
      "source": [
        "<a href=\"https://colab.research.google.com/github/IvarP3/Proyecto-Final-Inteligencia-Artificial/blob/main/N_ReinasRecocidoSimulado.ipynb\" target=\"_parent\"><img src=\"https://colab.research.google.com/assets/colab-badge.svg\" alt=\"Open In Colab\"/></a>"
      ]
    },
    {
      "cell_type": "code",
      "execution_count": 1,
      "metadata": {
        "colab": {
          "base_uri": "https://localhost:8080/"
        },
        "id": "oZrCzBxeGgzm",
        "outputId": "8111fcc1-bdc6-4ea9-aea6-23cbed66e334"
      },
      "outputs": [
        {
          "output_type": "stream",
          "name": "stdout",
          "text": [
            "Solución encontrada: [3, 7, 4, 2, 0, 6, 1, 5]\n",
            "Calidad de la solución: 0\n"
          ]
        }
      ],
      "source": [
        "import random\n",
        "import math\n",
        "\n",
        "# Función para modificar ligeramente la solución (intercambia dos reinas)\n",
        "def tweak(solution):\n",
        "    new_solution = solution.copy()\n",
        "    i, j = random.sample(range(len(solution)), 2)  # Selecciona dos índices aleatorios\n",
        "    new_solution[i], new_solution[j] = new_solution[j], new_solution[i]  # Intercambia sus posiciones\n",
        "    return new_solution\n",
        "\n",
        "# Función para evaluar la calidad de la solución (cuántas reinas se atacan)\n",
        "def quality(solution):\n",
        "    n = len(solution)\n",
        "    conflicts = 0\n",
        "    for i in range(n):\n",
        "        for j in range(i + 1, n):\n",
        "            if solution[i] == solution[j] or abs(solution[i] - solution[j]) == abs(i - j):\n",
        "                conflicts += 1\n",
        "    return -conflicts  # Retorna negativo porque queremos minimizar conflictos\n",
        "\n",
        "# Algoritmo de recocido simulado\n",
        "def simulated_annealing(n):\n",
        "    t = 1000  # Temperatura inicial\n",
        "    S = list(range(n))  # Solución inicial, reinas en distintas filas\n",
        "    random.shuffle(S)  # Barajamos las columnas para crear una solución aleatoria\n",
        "    Best = S.copy()  # Mejor solución encontrada hasta ahora\n",
        "\n",
        "    while t > 0:\n",
        "        R = tweak(S)  # Nueva solución cercana\n",
        "        delta_quality = quality(R) - quality(S)\n",
        "        # Acepta la nueva solución si es mejor o con cierta probabilidad si es peor\n",
        "        if delta_quality > 0 or random.random() < math.exp(delta_quality / t):\n",
        "            S = R\n",
        "        # Actualizar la mejor solución si la nueva es mejor\n",
        "        if quality(S) > quality(Best):\n",
        "            Best = S\n",
        "        # Disminuir la temperatura\n",
        "        t *= 0.95\n",
        "        # Si no hay conflictos, encontramos la solución ideal\n",
        "        if quality(Best) == 0:\n",
        "            break\n",
        "\n",
        "    return Best\n",
        "\n",
        "# Ejecutar el algoritmo para n reinas\n",
        "n = 8  # Número de reinas\n",
        "solution = simulated_annealing(n)\n",
        "print(\"Solución encontrada:\", solution)\n",
        "print(\"Calidad de la solución:\", quality(solution))"
      ]
    }
  ]
}